{
  "cells": [
    {
      "cell_type": "markdown",
      "metadata": {
        "id": "view-in-github",
        "colab_type": "text"
      },
      "source": [
        "<a href=\"https://colab.research.google.com/github/KaveGhsdn/Data_Science/blob/main/Cohort_Selection.ipynb\" target=\"_parent\"><img src=\"https://colab.research.google.com/assets/colab-badge.svg\" alt=\"Open In Colab\"/></a>"
      ]
    },
    {
      "cell_type": "code",
      "execution_count": 3,
      "metadata": {
        "id": "2riSOLZ3QnoN"
      },
      "outputs": [],
      "source": [
        "from google.colab import auth\n",
        "import pandas as pd\n",
        "auth.authenticate_user()"
      ]
    },
    {
      "cell_type": "code",
      "execution_count": 4,
      "metadata": {
        "colab": {
          "base_uri": "https://localhost:8080/"
        },
        "id": "bjty2y6JQq0N",
        "outputId": "817b665c-64b3-409a-da01-6a54e7bbb70a"
      },
      "outputs": [
        {
          "output_type": "stream",
          "name": "stdout",
          "text": [
            "<class 'pandas.core.frame.DataFrame'>\n",
            "RangeIndex: 299712 entries, 0 to 299711\n",
            "Data columns (total 6 columns):\n",
            " #   Column             Non-Null Count   Dtype \n",
            "---  ------             --------------   ----- \n",
            " 0   subject_id         299712 non-null  Int64 \n",
            " 1   gender             299712 non-null  object\n",
            " 2   anchor_age         299712 non-null  Int64 \n",
            " 3   anchor_year        299712 non-null  Int64 \n",
            " 4   anchor_year_group  299712 non-null  object\n",
            " 5   dod                29076 non-null   dbdate\n",
            "dtypes: Int64(3), dbdate(1), object(2)\n",
            "memory usage: 14.6+ MB\n"
          ]
        }
      ],
      "source": [
        "query = \"\"\"\n",
        "SELECT *\n",
        "FROM physionet-data.mimiciv_hosp.patients\n",
        "\"\"\"\n",
        "patients_df = pd.read_gbq(query, project_id='physionet-data-403216', dialect='standard')\n",
        "patients_df.info()"
      ]
    },
    {
      "cell_type": "code",
      "execution_count": 5,
      "metadata": {
        "colab": {
          "base_uri": "https://localhost:8080/"
        },
        "id": "3sPxSrdTRJcN",
        "outputId": "7287773d-a41a-4102-984a-0214068633d0"
      },
      "outputs": [
        {
          "output_type": "stream",
          "name": "stdout",
          "text": [
            "<class 'pandas.core.frame.DataFrame'>\n",
            "RangeIndex: 431231 entries, 0 to 431230\n",
            "Data columns (total 16 columns):\n",
            " #   Column                Non-Null Count   Dtype         \n",
            "---  ------                --------------   -----         \n",
            " 0   subject_id            431231 non-null  Int64         \n",
            " 1   hadm_id               431231 non-null  Int64         \n",
            " 2   admittime             431231 non-null  datetime64[us]\n",
            " 3   dischtime             431231 non-null  datetime64[us]\n",
            " 4   deathtime             8598 non-null    datetime64[us]\n",
            " 5   admission_type        431231 non-null  object        \n",
            " 6   admit_provider_id     431227 non-null  object        \n",
            " 7   admission_location    431231 non-null  object        \n",
            " 8   discharge_location    312076 non-null  object        \n",
            " 9   insurance             431231 non-null  object        \n",
            " 10  language              431231 non-null  object        \n",
            " 11  marital_status        421998 non-null  object        \n",
            " 12  race                  431231 non-null  object        \n",
            " 13  edregtime             299282 non-null  datetime64[us]\n",
            " 14  edouttime             299282 non-null  datetime64[us]\n",
            " 15  hospital_expire_flag  431231 non-null  Int64         \n",
            "dtypes: Int64(3), datetime64[us](5), object(8)\n",
            "memory usage: 53.9+ MB\n"
          ]
        }
      ],
      "source": [
        "query = \"\"\"\n",
        "SELECT *\n",
        "FROM physionet-data.mimiciv_hosp.admissions\n",
        "\"\"\"\n",
        "admissions_df = pd.read_gbq(query, project_id='physionet-data-403216', dialect='standard')\n",
        "admissions_df.info()"
      ]
    },
    {
      "cell_type": "code",
      "execution_count": 6,
      "metadata": {
        "colab": {
          "base_uri": "https://localhost:8080/"
        },
        "id": "0C26bZH5SIPp",
        "outputId": "0eef65e3-0a24-4f70-8906-1fc2dd22e4e2"
      },
      "outputs": [
        {
          "output_type": "stream",
          "name": "stdout",
          "text": [
            "<class 'pandas.core.frame.DataFrame'>\n",
            "RangeIndex: 1890972 entries, 0 to 1890971\n",
            "Data columns (total 7 columns):\n",
            " #   Column       Dtype         \n",
            "---  ------       -----         \n",
            " 0   subject_id   Int64         \n",
            " 1   hadm_id      Int64         \n",
            " 2   transfer_id  Int64         \n",
            " 3   eventtype    object        \n",
            " 4   careunit     object        \n",
            " 5   intime       datetime64[us]\n",
            " 6   outtime      datetime64[us]\n",
            "dtypes: Int64(3), datetime64[us](2), object(2)\n",
            "memory usage: 106.4+ MB\n"
          ]
        }
      ],
      "source": [
        "query = \"\"\"\n",
        "SELECT *\n",
        "FROM physionet-data.mimiciv_hosp.transfers\n",
        "\"\"\"\n",
        "transfers_df = pd.read_gbq(query, project_id='physionet-data-403216', dialect='standard')\n",
        "transfers_df.info()"
      ]
    },
    {
      "cell_type": "code",
      "execution_count": 7,
      "metadata": {
        "colab": {
          "base_uri": "https://localhost:8080/"
        },
        "id": "767xzqBHR33V",
        "outputId": "7d9e7992-5ecd-42f1-bc5c-2121513d8246"
      },
      "outputs": [
        {
          "output_type": "stream",
          "name": "stdout",
          "text": [
            "<class 'pandas.core.frame.DataFrame'>\n",
            "RangeIndex: 73181 entries, 0 to 73180\n",
            "Data columns (total 8 columns):\n",
            " #   Column          Non-Null Count  Dtype         \n",
            "---  ------          --------------  -----         \n",
            " 0   subject_id      73181 non-null  Int64         \n",
            " 1   hadm_id         73181 non-null  Int64         \n",
            " 2   stay_id         73181 non-null  Int64         \n",
            " 3   first_careunit  73181 non-null  object        \n",
            " 4   last_careunit   73181 non-null  object        \n",
            " 5   intime          73181 non-null  datetime64[us]\n",
            " 6   outtime         73181 non-null  datetime64[us]\n",
            " 7   los             73181 non-null  float64       \n",
            "dtypes: Int64(3), datetime64[us](2), float64(1), object(2)\n",
            "memory usage: 4.7+ MB\n"
          ]
        }
      ],
      "source": [
        "query = \"\"\"\n",
        "SELECT *\n",
        "FROM physionet-data.mimiciv_icu.icustays\n",
        "\"\"\"\n",
        "icustays_df = pd.read_gbq(query, project_id='physionet-data-403216', dialect='standard')\n",
        "icustays_df.info()"
      ]
    },
    {
      "cell_type": "code",
      "execution_count": 8,
      "metadata": {
        "id": "xXdT_R63yB9q"
      },
      "outputs": [],
      "source": [
        "# Rename 'inittime' and 'outtime' columns in 'transfers_df'\n",
        "transfers_df = transfers_df.rename(columns={'intime': 'intime_transfers', 'outtime': 'outtime_transfers'})\n",
        "icustays_df = icustays_df.rename(columns={'intime': 'intime_icu', 'outtime': 'outtime_icu'})"
      ]
    },
    {
      "cell_type": "code",
      "execution_count": 9,
      "metadata": {
        "colab": {
          "base_uri": "https://localhost:8080/"
        },
        "id": "_3zlQlUIGP0t",
        "outputId": "c70d0164-69de-406a-eda6-3c425fa33b7b"
      },
      "outputs": [
        {
          "output_type": "stream",
          "name": "stdout",
          "text": [
            "<class 'pandas.core.frame.DataFrame'>\n",
            "RangeIndex: 400610 entries, 0 to 400609\n",
            "Data columns (total 13 columns):\n",
            " #   Column             Non-Null Count   Dtype         \n",
            "---  ------             --------------   -----         \n",
            " 0   subject_id         400610 non-null  Int64         \n",
            " 1   hadm_id            400610 non-null  Int64         \n",
            " 2   stay_id            400610 non-null  Int64         \n",
            " 3   first_careunit     400610 non-null  object        \n",
            " 4   last_careunit      400610 non-null  object        \n",
            " 5   intime_icu         400610 non-null  datetime64[us]\n",
            " 6   outtime_icu        400610 non-null  datetime64[us]\n",
            " 7   los                400610 non-null  float64       \n",
            " 8   transfer_id        400610 non-null  Int64         \n",
            " 9   eventtype          400610 non-null  object        \n",
            " 10  careunit           327429 non-null  object        \n",
            " 11  intime_transfers   400610 non-null  datetime64[us]\n",
            " 12  outtime_transfers  327429 non-null  datetime64[us]\n",
            "dtypes: Int64(4), datetime64[us](4), float64(1), object(4)\n",
            "memory usage: 41.3+ MB\n"
          ]
        }
      ],
      "source": [
        "# Merge icustays_df with transfers_df\n",
        "icu_transfer = pd.merge(icustays_df, transfers_df, on=['subject_id', 'hadm_id'], how='inner')\n",
        "icu_transfer.info()"
      ]
    },
    {
      "cell_type": "code",
      "source": [
        "i = icustays_df['subject_id'].nunique()\n",
        "t = transfers_df['subject_id'].nunique()\n",
        "a = admissions_df['subject_id'].nunique()\n",
        "p = patients_df['subject_id'].nunique()\n",
        "print(f\"icu: {i}\\ntransfer: {t}\\nadmission: {a}\\npatients: {p}\")"
      ],
      "metadata": {
        "colab": {
          "base_uri": "https://localhost:8080/"
        },
        "id": "ZzcLqPOHvmYr",
        "outputId": "8074d35d-f998-4221-8f2f-f10001bfa3cc"
      },
      "execution_count": 10,
      "outputs": [
        {
          "output_type": "stream",
          "name": "stdout",
          "text": [
            "icu: 50920\n",
            "transfer: 299712\n",
            "admission: 180733\n",
            "patients: 299712\n"
          ]
        }
      ]
    },
    {
      "cell_type": "code",
      "execution_count": 11,
      "metadata": {
        "colab": {
          "base_uri": "https://localhost:8080/"
        },
        "id": "Eb-qdbuGGLYh",
        "outputId": "f5f636be-bd2b-484a-cf14-f6ccae93e768"
      },
      "outputs": [
        {
          "output_type": "stream",
          "name": "stdout",
          "text": [
            "<class 'pandas.core.frame.DataFrame'>\n",
            "RangeIndex: 400610 entries, 0 to 400609\n",
            "Data columns (total 27 columns):\n",
            " #   Column                Non-Null Count   Dtype         \n",
            "---  ------                --------------   -----         \n",
            " 0   subject_id            400610 non-null  Int64         \n",
            " 1   hadm_id               400610 non-null  Int64         \n",
            " 2   stay_id               400610 non-null  Int64         \n",
            " 3   first_careunit        400610 non-null  object        \n",
            " 4   last_careunit         400610 non-null  object        \n",
            " 5   intime_icu            400610 non-null  datetime64[us]\n",
            " 6   outtime_icu           400610 non-null  datetime64[us]\n",
            " 7   los                   400610 non-null  float64       \n",
            " 8   transfer_id           400610 non-null  Int64         \n",
            " 9   eventtype             400610 non-null  object        \n",
            " 10  careunit              327429 non-null  object        \n",
            " 11  intime_transfers      400610 non-null  datetime64[us]\n",
            " 12  outtime_transfers     327429 non-null  datetime64[us]\n",
            " 13  admittime             400610 non-null  datetime64[us]\n",
            " 14  dischtime             400610 non-null  datetime64[us]\n",
            " 15  deathtime             44100 non-null   datetime64[us]\n",
            " 16  admission_type        400610 non-null  object        \n",
            " 17  admit_provider_id     400598 non-null  object        \n",
            " 18  admission_location    400610 non-null  object        \n",
            " 19  discharge_location    398250 non-null  object        \n",
            " 20  insurance             400610 non-null  object        \n",
            " 21  language              400610 non-null  object        \n",
            " 22  marital_status        375014 non-null  object        \n",
            " 23  race                  400610 non-null  object        \n",
            " 24  edregtime             273575 non-null  datetime64[us]\n",
            " 25  edouttime             273575 non-null  datetime64[us]\n",
            " 26  hospital_expire_flag  400610 non-null  Int64         \n",
            "dtypes: Int64(5), datetime64[us](9), float64(1), object(12)\n",
            "memory usage: 84.4+ MB\n"
          ]
        }
      ],
      "source": [
        "# Merge icu_transfer with admissions_df\n",
        "icu_transfer_admission = pd.merge(icu_transfer, admissions_df, on=['subject_id', 'hadm_id'], how='inner')\n",
        "icu_transfer_admission.info()"
      ]
    },
    {
      "cell_type": "code",
      "execution_count": 12,
      "metadata": {
        "colab": {
          "base_uri": "https://localhost:8080/"
        },
        "id": "g-V6KzhSGLk9",
        "outputId": "d0fe9b2a-d38f-4462-af1a-af1d66684b8b"
      },
      "outputs": [
        {
          "output_type": "stream",
          "name": "stdout",
          "text": [
            "<class 'pandas.core.frame.DataFrame'>\n",
            "RangeIndex: 400610 entries, 0 to 400609\n",
            "Data columns (total 32 columns):\n",
            " #   Column                Non-Null Count   Dtype         \n",
            "---  ------                --------------   -----         \n",
            " 0   subject_id            400610 non-null  Int64         \n",
            " 1   hadm_id               400610 non-null  Int64         \n",
            " 2   stay_id               400610 non-null  Int64         \n",
            " 3   first_careunit        400610 non-null  object        \n",
            " 4   last_careunit         400610 non-null  object        \n",
            " 5   intime_icu            400610 non-null  datetime64[us]\n",
            " 6   outtime_icu           400610 non-null  datetime64[us]\n",
            " 7   los                   400610 non-null  float64       \n",
            " 8   transfer_id           400610 non-null  Int64         \n",
            " 9   eventtype             400610 non-null  object        \n",
            " 10  careunit              327429 non-null  object        \n",
            " 11  intime_transfers      400610 non-null  datetime64[us]\n",
            " 12  outtime_transfers     327429 non-null  datetime64[us]\n",
            " 13  admittime             400610 non-null  datetime64[us]\n",
            " 14  dischtime             400610 non-null  datetime64[us]\n",
            " 15  deathtime             44100 non-null   datetime64[us]\n",
            " 16  admission_type        400610 non-null  object        \n",
            " 17  admit_provider_id     400598 non-null  object        \n",
            " 18  admission_location    400610 non-null  object        \n",
            " 19  discharge_location    398250 non-null  object        \n",
            " 20  insurance             400610 non-null  object        \n",
            " 21  language              400610 non-null  object        \n",
            " 22  marital_status        375014 non-null  object        \n",
            " 23  race                  400610 non-null  object        \n",
            " 24  edregtime             273575 non-null  datetime64[us]\n",
            " 25  edouttime             273575 non-null  datetime64[us]\n",
            " 26  hospital_expire_flag  400610 non-null  Int64         \n",
            " 27  gender                400610 non-null  object        \n",
            " 28  anchor_age            400610 non-null  Int64         \n",
            " 29  anchor_year           400610 non-null  Int64         \n",
            " 30  anchor_year_group     400610 non-null  object        \n",
            " 31  dod                   159421 non-null  dbdate        \n",
            "dtypes: Int64(7), datetime64[us](9), dbdate(1), float64(1), object(14)\n",
            "memory usage: 100.5+ MB\n"
          ]
        }
      ],
      "source": [
        "# Merge icu_transfer_admission with patients_df\n",
        "icu_transfer_admission_patient = pd.merge(icu_transfer_admission, patients_df, on=['subject_id'], how='inner')\n",
        "icu_transfer_admission_patient.info()"
      ]
    },
    {
      "cell_type": "code",
      "execution_count": 13,
      "metadata": {
        "colab": {
          "base_uri": "https://localhost:8080/"
        },
        "id": "5rnuRZiB063H",
        "outputId": "aea3a878-c0d0-4202-fbc9-9ed2fab8eeab"
      },
      "outputs": [
        {
          "output_type": "stream",
          "name": "stdout",
          "text": [
            "Index(['subject_id', 'hadm_id', 'stay_id', 'first_careunit', 'last_careunit',\n",
            "       'intime_icu', 'outtime_icu', 'los', 'transfer_id', 'eventtype',\n",
            "       'careunit', 'intime_transfers', 'outtime_transfers', 'admittime',\n",
            "       'dischtime', 'deathtime', 'admission_type', 'admit_provider_id',\n",
            "       'admission_location', 'discharge_location', 'insurance', 'language',\n",
            "       'marital_status', 'race', 'edregtime', 'edouttime',\n",
            "       'hospital_expire_flag', 'gender', 'anchor_age', 'anchor_year',\n",
            "       'anchor_year_group', 'dod'],\n",
            "      dtype='object')\n"
          ]
        }
      ],
      "source": [
        "print(icu_transfer_admission_patient.columns)"
      ]
    },
    {
      "cell_type": "code",
      "execution_count": 14,
      "metadata": {
        "id": "n6A703yf1Hh9"
      },
      "outputs": [],
      "source": [
        "general_df = icu_transfer_admission_patient.copy()"
      ]
    },
    {
      "cell_type": "code",
      "source": [
        "general_df['subject_id'].nunique()"
      ],
      "metadata": {
        "colab": {
          "base_uri": "https://localhost:8080/"
        },
        "id": "MNlYHLcswxl8",
        "outputId": "6d412eea-cb37-4bf3-e416-0d7042c12097"
      },
      "execution_count": 15,
      "outputs": [
        {
          "output_type": "execute_result",
          "data": {
            "text/plain": [
              "50920"
            ]
          },
          "metadata": {},
          "execution_count": 15
        }
      ]
    },
    {
      "cell_type": "code",
      "execution_count": 16,
      "metadata": {
        "colab": {
          "base_uri": "https://localhost:8080/"
        },
        "id": "vYKe3Lxe2AW0",
        "outputId": "3327b763-6ffc-4596-c6df-5250b499024e"
      },
      "outputs": [
        {
          "output_type": "stream",
          "name": "stdout",
          "text": [
            "Number of unique subject_ids with hospital_expire_flag equal to 1: 6966\n"
          ]
        }
      ],
      "source": [
        "expire_flag_1_df = general_df[general_df['hospital_expire_flag'] == 1]\n",
        "unique_subject_ids_count = expire_flag_1_df['subject_id'].nunique()\n",
        "print(\"Number of unique subject_ids with hospital_expire_flag equal to 1:\", unique_subject_ids_count)"
      ]
    },
    {
      "cell_type": "code",
      "execution_count": 17,
      "metadata": {
        "colab": {
          "base_uri": "https://localhost:8080/"
        },
        "id": "xEYlGq7F22S5",
        "outputId": "c2cc5c1f-51ea-4f66-9783-c69fa8fb419d"
      },
      "outputs": [
        {
          "output_type": "stream",
          "name": "stdout",
          "text": [
            "Number of unique subject_ids with los less than 0.5 Day: 2937\n"
          ]
        }
      ],
      "source": [
        "los_less_5 = general_df[general_df['los'] < 0.5]\n",
        "unique_subject_ids_count = los_less_5['subject_id'].nunique()\n",
        "print(\"Number of unique subject_ids with los less than 0.5 Day:\", unique_subject_ids_count)"
      ]
    },
    {
      "cell_type": "code",
      "execution_count": 18,
      "metadata": {
        "colab": {
          "base_uri": "https://localhost:8080/"
        },
        "id": "Zi1aDx-V3Oak",
        "outputId": "a8b17741-082f-489c-8df5-ff9b4e4603b9"
      },
      "outputs": [
        {
          "output_type": "stream",
          "name": "stdout",
          "text": [
            "Number of unique subject_ids with age above from 89: 2158\n"
          ]
        }
      ],
      "source": [
        "above_91 = general_df[general_df['anchor_age'] == 91]\n",
        "unique_subject_ids_count = above_91['subject_id'].nunique()\n",
        "print(\"Number of unique subject_ids with age above from 89:\", unique_subject_ids_count)"
      ]
    },
    {
      "cell_type": "code",
      "execution_count": 19,
      "metadata": {
        "id": "D1ZEeZQM4HyM"
      },
      "outputs": [],
      "source": [
        "filtered_df = general_df[(general_df['hospital_expire_flag'] != 1) &\n",
        "                         (general_df['los'] >= 0.5) &\n",
        "                         (general_df['anchor_age'] != 91)]\n"
      ]
    },
    {
      "cell_type": "code",
      "source": [
        "filtered_df['subject_id'].nunique()"
      ],
      "metadata": {
        "colab": {
          "base_uri": "https://localhost:8080/"
        },
        "id": "CcfEOfmKywZI",
        "outputId": "3fee08d1-b0af-48da-b29c-baaaca9f1e94"
      },
      "execution_count": 20,
      "outputs": [
        {
          "output_type": "execute_result",
          "data": {
            "text/plain": [
              "42985"
            ]
          },
          "metadata": {},
          "execution_count": 20
        }
      ]
    },
    {
      "cell_type": "code",
      "execution_count": null,
      "metadata": {
        "id": "92BzQdda_ylA"
      },
      "outputs": [],
      "source": []
    },
    {
      "cell_type": "code",
      "execution_count": 21,
      "metadata": {
        "colab": {
          "base_uri": "https://localhost:8080/"
        },
        "id": "qdHm0So1PoF-",
        "outputId": "88ac25b6-5565-4ff2-d4b7-3f8b19653f0f"
      },
      "outputs": [
        {
          "output_type": "execute_result",
          "data": {
            "text/plain": [
              "Index(['subject_id', 'hadm_id', 'stay_id', 'first_careunit', 'last_careunit',\n",
              "       'intime_icu', 'outtime_icu', 'los', 'transfer_id', 'eventtype',\n",
              "       'careunit', 'intime_transfers', 'outtime_transfers', 'admittime',\n",
              "       'dischtime', 'deathtime', 'admission_type', 'admit_provider_id',\n",
              "       'admission_location', 'discharge_location', 'insurance', 'language',\n",
              "       'marital_status', 'race', 'edregtime', 'edouttime',\n",
              "       'hospital_expire_flag', 'gender', 'anchor_age', 'anchor_year',\n",
              "       'anchor_year_group', 'dod'],\n",
              "      dtype='object')"
            ]
          },
          "metadata": {},
          "execution_count": 21
        }
      ],
      "source": [
        "filtered_df.columnss"
      ]
    },
    {
      "cell_type": "code",
      "execution_count": 22,
      "metadata": {
        "colab": {
          "base_uri": "https://localhost:8080/"
        },
        "id": "dmCACf32VPRS",
        "outputId": "1dd85fa5-f01d-4471-dd25-54adce63a6b5"
      },
      "outputs": [
        {
          "output_type": "stream",
          "name": "stdout",
          "text": [
            "subject_id                   0\n",
            "hadm_id                      0\n",
            "stay_id                      0\n",
            "first_careunit               0\n",
            "last_careunit                0\n",
            "intime_icu                   0\n",
            "outtime_icu                  0\n",
            "los                          0\n",
            "transfer_id                  0\n",
            "eventtype                    0\n",
            "careunit                 60462\n",
            "intime_transfers             0\n",
            "outtime_transfers        60462\n",
            "admittime                    0\n",
            "dischtime                    0\n",
            "deathtime               332447\n",
            "admission_type               0\n",
            "admit_provider_id           12\n",
            "admission_location           0\n",
            "discharge_location        1616\n",
            "insurance                    0\n",
            "language                     0\n",
            "marital_status           18709\n",
            "race                         0\n",
            "edregtime               111272\n",
            "edouttime               111272\n",
            "hospital_expire_flag         0\n",
            "gender                       0\n",
            "anchor_age                   0\n",
            "anchor_year                  0\n",
            "anchor_year_group            0\n",
            "dod                     227313\n",
            "dtype: int64\n"
          ]
        }
      ],
      "source": [
        "missing_values = filtered_df.isnull().sum()\n",
        "print(missing_values)\n"
      ]
    },
    {
      "cell_type": "code",
      "execution_count": 23,
      "metadata": {
        "colab": {
          "base_uri": "https://localhost:8080/"
        },
        "id": "yq69JjZ3Wvb6",
        "outputId": "d3db792f-612b-47b9-bcd3-d27270b946a4"
      },
      "outputs": [
        {
          "output_type": "stream",
          "name": "stdout",
          "text": [
            "Neuro Stepdown\n",
            "Discharge Lounge\n",
            "None\n",
            "Neurology\n",
            "Trauma SICU (TSICU)\n",
            "PACU\n",
            "Emergency Department\n",
            "Neuro Surgical Intensive Care Unit (Neuro SICU)\n",
            "Neuro Intermediate\n",
            "Hematology/Oncology\n",
            "Medicine/Cardiology\n",
            "Coronary Care Unit (CCU)\n",
            "Surgical Intensive Care Unit (SICU)\n",
            "Med/Surg\n",
            "Medicine\n",
            "Medical Intensive Care Unit (MICU)\n",
            "Cardiac Surgery\n",
            "Medical/Surgical Intensive Care Unit (MICU/SICU)\n",
            "Med/Surg/GYN\n",
            "Cardiac Vascular Intensive Care Unit (CVICU)\n",
            "Vascular\n",
            "Hematology/Oncology Intermediate\n",
            "Surgery\n",
            "Med/Surg/Trauma\n",
            "Transplant\n",
            "Emergency Department Observation\n",
            "Cardiology\n",
            "Surgery/Trauma\n",
            "Medicine/Cardiology Intermediate\n",
            "Surgery/Pancreatic/Biliary/Bariatric\n",
            "Cardiology Surgery Intermediate\n",
            "Observation\n",
            "Medical/Surgical (Gynecology)\n",
            "Obstetrics Postpartum\n",
            "Thoracic Surgery\n",
            "Obstetrics (Postpartum & Antepartum)\n",
            "Labor & Delivery\n",
            "Obstetrics Antepartum\n",
            "Unknown\n"
          ]
        }
      ],
      "source": [
        "unique_careunits = filtered_df['careunit'].unique()\n",
        "for careunit in unique_careunits:\n",
        "    print(careunit)\n"
      ]
    },
    {
      "cell_type": "code",
      "execution_count": 24,
      "metadata": {
        "colab": {
          "base_uri": "https://localhost:8080/"
        },
        "id": "CUadcOZEToRE",
        "outputId": "ad685287-a0e0-425c-a828-3bb1fc92f248"
      },
      "outputs": [
        {
          "output_type": "stream",
          "name": "stdout",
          "text": [
            "Emergency Department: 38787\n",
            "Medicine: 27640\n",
            "Medical Intensive Care Unit (MICU): 18852\n",
            "Cardiac Vascular Intensive Care Unit (CVICU): 16754\n",
            "Medical/Surgical Intensive Care Unit (MICU/SICU): 14086\n",
            "Surgical Intensive Care Unit (SICU): 13945\n",
            "Neurology: 13660\n",
            "Cardiac Surgery: 12860\n",
            "Medicine/Cardiology: 11640\n",
            "Discharge Lounge: 11281\n",
            "Trauma SICU (TSICU): 11233\n",
            "PACU: 10371\n",
            "Coronary Care Unit (CCU): 9651\n",
            "Med/Surg: 9440\n",
            "Transplant: 8043\n",
            "Hematology/Oncology: 5383\n",
            "Med/Surg/Trauma: 5029\n",
            "Vascular: 4686\n",
            "Neuro Intermediate: 3877\n",
            "Cardiology Surgery Intermediate: 3672\n",
            "Surgery/Trauma: 3204\n",
            "Med/Surg/GYN: 3151\n",
            "Emergency Department Observation: 2580\n",
            "Medicine/Cardiology Intermediate: 2278\n",
            "Neuro Surgical Intensive Care Unit (Neuro SICU): 2188\n",
            "Neuro Stepdown: 1932\n",
            "Hematology/Oncology Intermediate: 1451\n",
            "Surgery/Pancreatic/Biliary/Bariatric: 1397\n",
            "Medical/Surgical (Gynecology): 825\n",
            "Surgery: 712\n",
            "Thoracic Surgery: 359\n",
            "Labor & Delivery: 312\n",
            "Obstetrics (Postpartum & Antepartum): 278\n",
            "Observation: 152\n",
            "Cardiology: 111\n",
            "Obstetrics Antepartum: 74\n",
            "Obstetrics Postpartum: 60\n",
            "Unknown: 31\n"
          ]
        }
      ],
      "source": [
        "value_counts = filtered_df['careunit'].value_counts()\n",
        "for careunit, count in value_counts.items():\n",
        "    print(f\"{careunit}: {count}\")\n"
      ]
    },
    {
      "cell_type": "code",
      "execution_count": 25,
      "metadata": {
        "id": "cblEuVip0fp6"
      },
      "outputs": [],
      "source": [
        "sorted_filtered_df = filtered_df.sort_values(by=['subject_id', 'hadm_id', 'intime_transfers', 'outtime_transfers'])"
      ]
    },
    {
      "cell_type": "code",
      "execution_count": 26,
      "metadata": {
        "colab": {
          "base_uri": "https://localhost:8080/",
          "height": 429
        },
        "id": "xla0Elvmz2sA",
        "outputId": "837cc407-bbf2-4a13-9c95-10eb676bff86"
      },
      "outputs": [
        {
          "output_type": "execute_result",
          "data": {
            "text/plain": [
              "        subject_id   hadm_id   stay_id                       first_careunit  \\\n",
              "256323    10001217  24597018  37067082  Surgical Intensive Care Unit (SICU)   \n",
              "256326    10001217  24597018  37067082  Surgical Intensive Care Unit (SICU)   \n",
              "256322    10001217  24597018  37067082  Surgical Intensive Care Unit (SICU)   \n",
              "256324    10001217  24597018  37067082  Surgical Intensive Care Unit (SICU)   \n",
              "256321    10001217  24597018  37067082  Surgical Intensive Care Unit (SICU)   \n",
              "\n",
              "                              last_careunit          intime_icu  \\\n",
              "256323  Surgical Intensive Care Unit (SICU) 2157-11-20 19:18:02   \n",
              "256326  Surgical Intensive Care Unit (SICU) 2157-11-20 19:18:02   \n",
              "256322  Surgical Intensive Care Unit (SICU) 2157-11-20 19:18:02   \n",
              "256324  Surgical Intensive Care Unit (SICU) 2157-11-20 19:18:02   \n",
              "256321  Surgical Intensive Care Unit (SICU) 2157-11-20 19:18:02   \n",
              "\n",
              "               outtime_icu       los  transfer_id eventtype  ...  \\\n",
              "256323 2157-11-21 22:08:00  1.118032     39866888        ED  ...   \n",
              "256326 2157-11-21 22:08:00  1.118032     37058438     admit  ...   \n",
              "256322 2157-11-21 22:08:00  1.118032     37067082  transfer  ...   \n",
              "256324 2157-11-21 22:08:00  1.118032     35343802  transfer  ...   \n",
              "256321 2157-11-21 22:08:00  1.118032     30437372  transfer  ...   \n",
              "\n",
              "       marital_status   race           edregtime           edouttime  \\\n",
              "256323        MARRIED  WHITE 2157-11-18 17:38:00 2157-11-19 01:24:00   \n",
              "256326        MARRIED  WHITE 2157-11-18 17:38:00 2157-11-19 01:24:00   \n",
              "256322        MARRIED  WHITE 2157-11-18 17:38:00 2157-11-19 01:24:00   \n",
              "256324        MARRIED  WHITE 2157-11-18 17:38:00 2157-11-19 01:24:00   \n",
              "256321        MARRIED  WHITE 2157-11-18 17:38:00 2157-11-19 01:24:00   \n",
              "\n",
              "       hospital_expire_flag gender anchor_age anchor_year anchor_year_group  \\\n",
              "256323                    0      F         55        2157       2011 - 2013   \n",
              "256326                    0      F         55        2157       2011 - 2013   \n",
              "256322                    0      F         55        2157       2011 - 2013   \n",
              "256324                    0      F         55        2157       2011 - 2013   \n",
              "256321                    0      F         55        2157       2011 - 2013   \n",
              "\n",
              "        dod  \n",
              "256323  NaT  \n",
              "256326  NaT  \n",
              "256322  NaT  \n",
              "256324  NaT  \n",
              "256321  NaT  \n",
              "\n",
              "[5 rows x 32 columns]"
            ],
            "text/html": [
              "\n",
              "  <div id=\"df-8a81a9cb-7544-41de-8fbc-c7ee2fd4a735\" class=\"colab-df-container\">\n",
              "    <div>\n",
              "<style scoped>\n",
              "    .dataframe tbody tr th:only-of-type {\n",
              "        vertical-align: middle;\n",
              "    }\n",
              "\n",
              "    .dataframe tbody tr th {\n",
              "        vertical-align: top;\n",
              "    }\n",
              "\n",
              "    .dataframe thead th {\n",
              "        text-align: right;\n",
              "    }\n",
              "</style>\n",
              "<table border=\"1\" class=\"dataframe\">\n",
              "  <thead>\n",
              "    <tr style=\"text-align: right;\">\n",
              "      <th></th>\n",
              "      <th>subject_id</th>\n",
              "      <th>hadm_id</th>\n",
              "      <th>stay_id</th>\n",
              "      <th>first_careunit</th>\n",
              "      <th>last_careunit</th>\n",
              "      <th>intime_icu</th>\n",
              "      <th>outtime_icu</th>\n",
              "      <th>los</th>\n",
              "      <th>transfer_id</th>\n",
              "      <th>eventtype</th>\n",
              "      <th>...</th>\n",
              "      <th>marital_status</th>\n",
              "      <th>race</th>\n",
              "      <th>edregtime</th>\n",
              "      <th>edouttime</th>\n",
              "      <th>hospital_expire_flag</th>\n",
              "      <th>gender</th>\n",
              "      <th>anchor_age</th>\n",
              "      <th>anchor_year</th>\n",
              "      <th>anchor_year_group</th>\n",
              "      <th>dod</th>\n",
              "    </tr>\n",
              "  </thead>\n",
              "  <tbody>\n",
              "    <tr>\n",
              "      <th>256323</th>\n",
              "      <td>10001217</td>\n",
              "      <td>24597018</td>\n",
              "      <td>37067082</td>\n",
              "      <td>Surgical Intensive Care Unit (SICU)</td>\n",
              "      <td>Surgical Intensive Care Unit (SICU)</td>\n",
              "      <td>2157-11-20 19:18:02</td>\n",
              "      <td>2157-11-21 22:08:00</td>\n",
              "      <td>1.118032</td>\n",
              "      <td>39866888</td>\n",
              "      <td>ED</td>\n",
              "      <td>...</td>\n",
              "      <td>MARRIED</td>\n",
              "      <td>WHITE</td>\n",
              "      <td>2157-11-18 17:38:00</td>\n",
              "      <td>2157-11-19 01:24:00</td>\n",
              "      <td>0</td>\n",
              "      <td>F</td>\n",
              "      <td>55</td>\n",
              "      <td>2157</td>\n",
              "      <td>2011 - 2013</td>\n",
              "      <td>NaT</td>\n",
              "    </tr>\n",
              "    <tr>\n",
              "      <th>256326</th>\n",
              "      <td>10001217</td>\n",
              "      <td>24597018</td>\n",
              "      <td>37067082</td>\n",
              "      <td>Surgical Intensive Care Unit (SICU)</td>\n",
              "      <td>Surgical Intensive Care Unit (SICU)</td>\n",
              "      <td>2157-11-20 19:18:02</td>\n",
              "      <td>2157-11-21 22:08:00</td>\n",
              "      <td>1.118032</td>\n",
              "      <td>37058438</td>\n",
              "      <td>admit</td>\n",
              "      <td>...</td>\n",
              "      <td>MARRIED</td>\n",
              "      <td>WHITE</td>\n",
              "      <td>2157-11-18 17:38:00</td>\n",
              "      <td>2157-11-19 01:24:00</td>\n",
              "      <td>0</td>\n",
              "      <td>F</td>\n",
              "      <td>55</td>\n",
              "      <td>2157</td>\n",
              "      <td>2011 - 2013</td>\n",
              "      <td>NaT</td>\n",
              "    </tr>\n",
              "    <tr>\n",
              "      <th>256322</th>\n",
              "      <td>10001217</td>\n",
              "      <td>24597018</td>\n",
              "      <td>37067082</td>\n",
              "      <td>Surgical Intensive Care Unit (SICU)</td>\n",
              "      <td>Surgical Intensive Care Unit (SICU)</td>\n",
              "      <td>2157-11-20 19:18:02</td>\n",
              "      <td>2157-11-21 22:08:00</td>\n",
              "      <td>1.118032</td>\n",
              "      <td>37067082</td>\n",
              "      <td>transfer</td>\n",
              "      <td>...</td>\n",
              "      <td>MARRIED</td>\n",
              "      <td>WHITE</td>\n",
              "      <td>2157-11-18 17:38:00</td>\n",
              "      <td>2157-11-19 01:24:00</td>\n",
              "      <td>0</td>\n",
              "      <td>F</td>\n",
              "      <td>55</td>\n",
              "      <td>2157</td>\n",
              "      <td>2011 - 2013</td>\n",
              "      <td>NaT</td>\n",
              "    </tr>\n",
              "    <tr>\n",
              "      <th>256324</th>\n",
              "      <td>10001217</td>\n",
              "      <td>24597018</td>\n",
              "      <td>37067082</td>\n",
              "      <td>Surgical Intensive Care Unit (SICU)</td>\n",
              "      <td>Surgical Intensive Care Unit (SICU)</td>\n",
              "      <td>2157-11-20 19:18:02</td>\n",
              "      <td>2157-11-21 22:08:00</td>\n",
              "      <td>1.118032</td>\n",
              "      <td>35343802</td>\n",
              "      <td>transfer</td>\n",
              "      <td>...</td>\n",
              "      <td>MARRIED</td>\n",
              "      <td>WHITE</td>\n",
              "      <td>2157-11-18 17:38:00</td>\n",
              "      <td>2157-11-19 01:24:00</td>\n",
              "      <td>0</td>\n",
              "      <td>F</td>\n",
              "      <td>55</td>\n",
              "      <td>2157</td>\n",
              "      <td>2011 - 2013</td>\n",
              "      <td>NaT</td>\n",
              "    </tr>\n",
              "    <tr>\n",
              "      <th>256321</th>\n",
              "      <td>10001217</td>\n",
              "      <td>24597018</td>\n",
              "      <td>37067082</td>\n",
              "      <td>Surgical Intensive Care Unit (SICU)</td>\n",
              "      <td>Surgical Intensive Care Unit (SICU)</td>\n",
              "      <td>2157-11-20 19:18:02</td>\n",
              "      <td>2157-11-21 22:08:00</td>\n",
              "      <td>1.118032</td>\n",
              "      <td>30437372</td>\n",
              "      <td>transfer</td>\n",
              "      <td>...</td>\n",
              "      <td>MARRIED</td>\n",
              "      <td>WHITE</td>\n",
              "      <td>2157-11-18 17:38:00</td>\n",
              "      <td>2157-11-19 01:24:00</td>\n",
              "      <td>0</td>\n",
              "      <td>F</td>\n",
              "      <td>55</td>\n",
              "      <td>2157</td>\n",
              "      <td>2011 - 2013</td>\n",
              "      <td>NaT</td>\n",
              "    </tr>\n",
              "  </tbody>\n",
              "</table>\n",
              "<p>5 rows × 32 columns</p>\n",
              "</div>\n",
              "    <div class=\"colab-df-buttons\">\n",
              "\n",
              "  <div class=\"colab-df-container\">\n",
              "    <button class=\"colab-df-convert\" onclick=\"convertToInteractive('df-8a81a9cb-7544-41de-8fbc-c7ee2fd4a735')\"\n",
              "            title=\"Convert this dataframe to an interactive table.\"\n",
              "            style=\"display:none;\">\n",
              "\n",
              "  <svg xmlns=\"http://www.w3.org/2000/svg\" height=\"24px\" viewBox=\"0 -960 960 960\">\n",
              "    <path d=\"M120-120v-720h720v720H120Zm60-500h600v-160H180v160Zm220 220h160v-160H400v160Zm0 220h160v-160H400v160ZM180-400h160v-160H180v160Zm440 0h160v-160H620v160ZM180-180h160v-160H180v160Zm440 0h160v-160H620v160Z\"/>\n",
              "  </svg>\n",
              "    </button>\n",
              "\n",
              "  <style>\n",
              "    .colab-df-container {\n",
              "      display:flex;\n",
              "      gap: 12px;\n",
              "    }\n",
              "\n",
              "    .colab-df-convert {\n",
              "      background-color: #E8F0FE;\n",
              "      border: none;\n",
              "      border-radius: 50%;\n",
              "      cursor: pointer;\n",
              "      display: none;\n",
              "      fill: #1967D2;\n",
              "      height: 32px;\n",
              "      padding: 0 0 0 0;\n",
              "      width: 32px;\n",
              "    }\n",
              "\n",
              "    .colab-df-convert:hover {\n",
              "      background-color: #E2EBFA;\n",
              "      box-shadow: 0px 1px 2px rgba(60, 64, 67, 0.3), 0px 1px 3px 1px rgba(60, 64, 67, 0.15);\n",
              "      fill: #174EA6;\n",
              "    }\n",
              "\n",
              "    .colab-df-buttons div {\n",
              "      margin-bottom: 4px;\n",
              "    }\n",
              "\n",
              "    [theme=dark] .colab-df-convert {\n",
              "      background-color: #3B4455;\n",
              "      fill: #D2E3FC;\n",
              "    }\n",
              "\n",
              "    [theme=dark] .colab-df-convert:hover {\n",
              "      background-color: #434B5C;\n",
              "      box-shadow: 0px 1px 3px 1px rgba(0, 0, 0, 0.15);\n",
              "      filter: drop-shadow(0px 1px 2px rgba(0, 0, 0, 0.3));\n",
              "      fill: #FFFFFF;\n",
              "    }\n",
              "  </style>\n",
              "\n",
              "    <script>\n",
              "      const buttonEl =\n",
              "        document.querySelector('#df-8a81a9cb-7544-41de-8fbc-c7ee2fd4a735 button.colab-df-convert');\n",
              "      buttonEl.style.display =\n",
              "        google.colab.kernel.accessAllowed ? 'block' : 'none';\n",
              "\n",
              "      async function convertToInteractive(key) {\n",
              "        const element = document.querySelector('#df-8a81a9cb-7544-41de-8fbc-c7ee2fd4a735');\n",
              "        const dataTable =\n",
              "          await google.colab.kernel.invokeFunction('convertToInteractive',\n",
              "                                                    [key], {});\n",
              "        if (!dataTable) return;\n",
              "\n",
              "        const docLinkHtml = 'Like what you see? Visit the ' +\n",
              "          '<a target=\"_blank\" href=https://colab.research.google.com/notebooks/data_table.ipynb>data table notebook</a>'\n",
              "          + ' to learn more about interactive tables.';\n",
              "        element.innerHTML = '';\n",
              "        dataTable['output_type'] = 'display_data';\n",
              "        await google.colab.output.renderOutput(dataTable, element);\n",
              "        const docLink = document.createElement('div');\n",
              "        docLink.innerHTML = docLinkHtml;\n",
              "        element.appendChild(docLink);\n",
              "      }\n",
              "    </script>\n",
              "  </div>\n",
              "\n",
              "\n",
              "<div id=\"df-28c9be02-97cd-4cbc-878d-ed6aa1b11a33\">\n",
              "  <button class=\"colab-df-quickchart\" onclick=\"quickchart('df-28c9be02-97cd-4cbc-878d-ed6aa1b11a33')\"\n",
              "            title=\"Suggest charts\"\n",
              "            style=\"display:none;\">\n",
              "\n",
              "<svg xmlns=\"http://www.w3.org/2000/svg\" height=\"24px\"viewBox=\"0 0 24 24\"\n",
              "     width=\"24px\">\n",
              "    <g>\n",
              "        <path d=\"M19 3H5c-1.1 0-2 .9-2 2v14c0 1.1.9 2 2 2h14c1.1 0 2-.9 2-2V5c0-1.1-.9-2-2-2zM9 17H7v-7h2v7zm4 0h-2V7h2v10zm4 0h-2v-4h2v4z\"/>\n",
              "    </g>\n",
              "</svg>\n",
              "  </button>\n",
              "\n",
              "<style>\n",
              "  .colab-df-quickchart {\n",
              "      --bg-color: #E8F0FE;\n",
              "      --fill-color: #1967D2;\n",
              "      --hover-bg-color: #E2EBFA;\n",
              "      --hover-fill-color: #174EA6;\n",
              "      --disabled-fill-color: #AAA;\n",
              "      --disabled-bg-color: #DDD;\n",
              "  }\n",
              "\n",
              "  [theme=dark] .colab-df-quickchart {\n",
              "      --bg-color: #3B4455;\n",
              "      --fill-color: #D2E3FC;\n",
              "      --hover-bg-color: #434B5C;\n",
              "      --hover-fill-color: #FFFFFF;\n",
              "      --disabled-bg-color: #3B4455;\n",
              "      --disabled-fill-color: #666;\n",
              "  }\n",
              "\n",
              "  .colab-df-quickchart {\n",
              "    background-color: var(--bg-color);\n",
              "    border: none;\n",
              "    border-radius: 50%;\n",
              "    cursor: pointer;\n",
              "    display: none;\n",
              "    fill: var(--fill-color);\n",
              "    height: 32px;\n",
              "    padding: 0;\n",
              "    width: 32px;\n",
              "  }\n",
              "\n",
              "  .colab-df-quickchart:hover {\n",
              "    background-color: var(--hover-bg-color);\n",
              "    box-shadow: 0 1px 2px rgba(60, 64, 67, 0.3), 0 1px 3px 1px rgba(60, 64, 67, 0.15);\n",
              "    fill: var(--button-hover-fill-color);\n",
              "  }\n",
              "\n",
              "  .colab-df-quickchart-complete:disabled,\n",
              "  .colab-df-quickchart-complete:disabled:hover {\n",
              "    background-color: var(--disabled-bg-color);\n",
              "    fill: var(--disabled-fill-color);\n",
              "    box-shadow: none;\n",
              "  }\n",
              "\n",
              "  .colab-df-spinner {\n",
              "    border: 2px solid var(--fill-color);\n",
              "    border-color: transparent;\n",
              "    border-bottom-color: var(--fill-color);\n",
              "    animation:\n",
              "      spin 1s steps(1) infinite;\n",
              "  }\n",
              "\n",
              "  @keyframes spin {\n",
              "    0% {\n",
              "      border-color: transparent;\n",
              "      border-bottom-color: var(--fill-color);\n",
              "      border-left-color: var(--fill-color);\n",
              "    }\n",
              "    20% {\n",
              "      border-color: transparent;\n",
              "      border-left-color: var(--fill-color);\n",
              "      border-top-color: var(--fill-color);\n",
              "    }\n",
              "    30% {\n",
              "      border-color: transparent;\n",
              "      border-left-color: var(--fill-color);\n",
              "      border-top-color: var(--fill-color);\n",
              "      border-right-color: var(--fill-color);\n",
              "    }\n",
              "    40% {\n",
              "      border-color: transparent;\n",
              "      border-right-color: var(--fill-color);\n",
              "      border-top-color: var(--fill-color);\n",
              "    }\n",
              "    60% {\n",
              "      border-color: transparent;\n",
              "      border-right-color: var(--fill-color);\n",
              "    }\n",
              "    80% {\n",
              "      border-color: transparent;\n",
              "      border-right-color: var(--fill-color);\n",
              "      border-bottom-color: var(--fill-color);\n",
              "    }\n",
              "    90% {\n",
              "      border-color: transparent;\n",
              "      border-bottom-color: var(--fill-color);\n",
              "    }\n",
              "  }\n",
              "</style>\n",
              "\n",
              "  <script>\n",
              "    async function quickchart(key) {\n",
              "      const quickchartButtonEl =\n",
              "        document.querySelector('#' + key + ' button');\n",
              "      quickchartButtonEl.disabled = true;  // To prevent multiple clicks.\n",
              "      quickchartButtonEl.classList.add('colab-df-spinner');\n",
              "      try {\n",
              "        const charts = await google.colab.kernel.invokeFunction(\n",
              "            'suggestCharts', [key], {});\n",
              "      } catch (error) {\n",
              "        console.error('Error during call to suggestCharts:', error);\n",
              "      }\n",
              "      quickchartButtonEl.classList.remove('colab-df-spinner');\n",
              "      quickchartButtonEl.classList.add('colab-df-quickchart-complete');\n",
              "    }\n",
              "    (() => {\n",
              "      let quickchartButtonEl =\n",
              "        document.querySelector('#df-28c9be02-97cd-4cbc-878d-ed6aa1b11a33 button');\n",
              "      quickchartButtonEl.style.display =\n",
              "        google.colab.kernel.accessAllowed ? 'block' : 'none';\n",
              "    })();\n",
              "  </script>\n",
              "</div>\n",
              "    </div>\n",
              "  </div>\n"
            ],
            "application/vnd.google.colaboratory.intrinsic+json": {
              "type": "dataframe",
              "variable_name": "sorted_filtered_df"
            }
          },
          "metadata": {},
          "execution_count": 26
        }
      ],
      "source": [
        "sorted_filtered_df.head(5)"
      ]
    },
    {
      "cell_type": "code",
      "execution_count": 27,
      "metadata": {
        "id": "vw2GadMcRAaY",
        "colab": {
          "base_uri": "https://localhost:8080/"
        },
        "outputId": "ce959ffe-4508-401b-f8f5-0192139bcc60"
      },
      "outputs": [
        {
          "output_type": "stream",
          "name": "stdout",
          "text": [
            "Mounted at /content/gdrive\n"
          ]
        }
      ],
      "source": [
        "from google.colab import auth\n",
        "from google.colab import drive\n",
        "auth.authenticate_user()\n",
        "drive.mount('/content/gdrive')\n",
        "sorted_filtered_df.to_excel('/content/gdrive/My Drive/sorted_filtered_df.xlsx', index=False)"
      ]
    }
  ],
  "metadata": {
    "colab": {
      "provenance": [],
      "authorship_tag": "ABX9TyP7frHaWBz1bfWwTFpVQ4Kg",
      "include_colab_link": true
    },
    "kernelspec": {
      "display_name": "Python 3",
      "name": "python3"
    },
    "language_info": {
      "name": "python"
    }
  },
  "nbformat": 4,
  "nbformat_minor": 0
}